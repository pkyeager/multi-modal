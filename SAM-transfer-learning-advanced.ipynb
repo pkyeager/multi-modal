{
 "cells": [
  {
   "cell_type": "markdown",
   "metadata": {},
   "source": [
    "In this notebook, we want to increase the complexity of the transfer learning for the model SAM from meta. Inthe previous notebook, we tested a lean version of transfer learning with SAM. \n",
    "\n",
    "* 100 epochs\n",
    "* 10 patience\n",
    "* Pytorch only instead of mixing HuggingFace with PyTorch\n",
    "    * It seems like it's hard to rely only on PyTorch"
   ]
  },
  {
   "cell_type": "code",
   "execution_count": 1,
   "metadata": {},
   "outputs": [
    {
     "name": "stdout",
     "output_type": "stream",
     "text": [
      "Note: you may need to restart the kernel to use updated packages.\n",
      "Note: you may need to restart the kernel to use updated packages.\n",
      "Note: you may need to restart the kernel to use updated packages.\n"
     ]
    }
   ],
   "source": [
    "# Setting up the enviroment\n",
    "\n",
    "%pip install -q transformers\n",
    "%pip install -q datasets\n",
    "%pip install -q Pillow"
   ]
  },
  {
   "cell_type": "code",
   "execution_count": null,
   "metadata": {},
   "outputs": [
    {
     "name": "stdout",
     "output_type": "stream",
     "text": [
      "/home/mark/work/MultiModal\n"
     ]
    }
   ],
   "source": [
    "import os\n",
    "\n",
    "cwd = os.getcwd()\n",
    "print(cwd)"
   ]
  },
  {
   "cell_type": "code",
   "execution_count": null,
   "metadata": {},
   "outputs": [
    {
     "name": "stdout",
     "output_type": "stream",
     "text": [
      "/home/mark/work/MultiModal/data\n",
      "Current Data Directory/home/mark/work/MultiModal/data/sentinel-1-flipped-one-class\n"
     ]
    }
   ],
   "source": [
    "from datasets import load_dataset, Image\n",
    "data_dir = os.path.join(cwd, 'data')\n",
    "\n",
    "one_class_flipped_dataset = \"sentinel-1-flipped-one-class\"\n",
    "two_class_augmented_dataset = \"sentinel-1-augmented-two-class\"\n",
    "\n",
    "current_data_dir = os.path.join(data_dir, one_class_flipped_dataset)\n",
    "print(\"Current Data Directory\"+current_data_dir)\n",
    "current_data_dir "
   ]
  },
  {
   "cell_type": "code",
   "execution_count": null,
   "metadata": {},
   "outputs": [],
   "source": []
  }
 ],
 "metadata": {
  "kernelspec": {
   "display_name": "Python 3",
   "language": "python",
   "name": "python3"
  },
  "language_info": {
   "codemirror_mode": {
    "name": "ipython",
    "version": 3
   },
   "file_extension": ".py",
   "mimetype": "text/x-python",
   "name": "python",
   "nbconvert_exporter": "python",
   "pygments_lexer": "ipython3",
   "version": "3.10.12"
  }
 },
 "nbformat": 4,
 "nbformat_minor": 2
}
