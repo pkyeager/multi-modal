{
 "cells": [
  {
   "cell_type": "markdown",
   "metadata": {},
   "source": [
    "In this notebook, we want to increase the complexity of the transfer learning for the model SAM from meta. Inthe previous notebook, we tested a lean version of transfer learning with SAM. \n",
    "\n",
    "* 100 epochs\n",
    "* 10 patience\n",
    "* Pytorch only instead of mixing HuggingFace with PyTorch"
   ]
  },
  {
   "cell_type": "markdown",
   "metadata": {},
   "source": [
    "# Setup the env\n",
    " "
   ]
  }
 ],
 "metadata": {
  "kernelspec": {
   "display_name": "Python 3",
   "language": "python",
   "name": "python3"
  },
  "language_info": {
   "name": "python",
   "version": "3.10.12"
  }
 },
 "nbformat": 4,
 "nbformat_minor": 2
}
